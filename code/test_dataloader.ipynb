{
 "cells": [
  {
   "cell_type": "code",
   "execution_count": 11,
   "metadata": {},
   "outputs": [],
   "source": [
    "from dataset import SizeDataset\n",
    "from torch.utils.data import DataLoader\n",
    "import yaml\n",
    "import numpy as np\n",
    "import matplotlib.pyplot as plt"
   ]
  },
  {
   "cell_type": "code",
   "execution_count": 2,
   "metadata": {},
   "outputs": [],
   "source": [
    "cfg = yaml.safe_load(open('../configs/ant_size.yaml'))\n",
    "dataset_instance = SizeDataset(cfg, \"train\")"
   ]
  },
  {
   "cell_type": "code",
   "execution_count": 3,
   "metadata": {},
   "outputs": [
    {
     "name": "stdout",
     "output_type": "stream",
     "text": [
      "/Users/nsi/Documents/ant-size/data\n"
     ]
    }
   ],
   "source": [
    "print(dataset_instance.data_root)"
   ]
  },
  {
   "cell_type": "code",
   "execution_count": 7,
   "metadata": {},
   "outputs": [],
   "source": [
    "dataloader = DataLoader(\n",
    "    dataset_instance, \n",
    "    batch_size=16, \n",
    "    shuffle=True, \n",
    "    num_workers=1\n",
    ")"
   ]
  },
  {
   "cell_type": "code",
   "execution_count": 13,
   "metadata": {},
   "outputs": [],
   "source": [
    "datas, labels = next(iter(dataloader))\n",
    "batch = list(zip(datas, labels))\n",
    "\n",
    "# Grab the first (data, label) pair from the zipped list\n",
    "example = batch[0]\n",
    "data, label = example"
   ]
  },
  {
   "cell_type": "code",
   "execution_count": 10,
   "metadata": {},
   "outputs": [
    {
     "data": {
      "text/plain": [
       "tensor([2, 1, 1, 2, 1, 1, 3, 0, 1, 2, 2, 1, 2, 1, 1, 2])"
      ]
     },
     "execution_count": 10,
     "metadata": {},
     "output_type": "execute_result"
    }
   ],
   "source": [
    "labels"
   ]
  },
  {
   "cell_type": "code",
   "execution_count": null,
   "metadata": {},
   "outputs": [],
   "source": [
    "figure = plt.figure(figsize=(8, 8))\n",
    "cols, rows = 3, 3\n",
    "for i in range(1, cols * rows + 1):\n",
    "    sample_idx = torch.randint(len(training_data), size=(1,)).item()\n",
    "    img, label = training_data[sample_idx]\n",
    "    figure.add_subplot(rows, cols, i)\n",
    "    plt.title(labels_map[label])\n",
    "    plt.axis(\"off\")\n",
    "    plt.imshow(img.squeeze(), cmap=\"gray\")\n",
    "plt.show()"
   ]
  },
  {
   "cell_type": "code",
   "execution_count": 14,
   "metadata": {},
   "outputs": [
    {
     "name": "stdout",
     "output_type": "stream",
     "text": [
      "Checking out dataset:\n",
      "(3, 224, 224)\n",
      "float32\n",
      "0.43529412\n",
      "1.0\n",
      "tensor(2)\n"
     ]
    },
    {
     "data": {
      "text/plain": [
       "<matplotlib.image.AxesImage at 0x7faa85fa4d00>"
      ]
     },
     "execution_count": 14,
     "metadata": {},
     "output_type": "execute_result"
    },
    {
     "data": {
      "image/png": "[encoded data removed]",
      "text/plain": [
       "<Figure size 432x288 with 1 Axes>"
      ]
     },
     "metadata": {
      "needs_background": "light"
     },
     "output_type": "display_data"
    }
   ],
   "source": [
    "data_np = data.numpy()\n",
    "print('Checking out dataset:')\n",
    "print(data_np.shape)\n",
    "print(data_np.dtype)\n",
    "print(np.min(data_np))\n",
    "print(np.max(data_np))\n",
    "print(label)\n",
    "\n",
    "# Transpose C,W,H to W,H,C for OpenCV\n",
    "data_np = np.transpose(data_np, (1, 2, 0))\n",
    "\n",
    "# Convert range from [0.0, 1.0] to [0, 255]\n",
    "data_np = data_np * 255.0\n",
    "\n",
    "# Round to nearest whole number\n",
    "data_np = np.around(data_np)\n",
    "\n",
    "# Truncate negative numbers\n",
    "data_np[data_np < 0] = 0\n",
    "\n",
    "# Truncate out-of-bounds numbers\n",
    "data_np[data_np > 255] = 255\n",
    "\n",
    "# Convert from existing np.float32 to np.uint8 (unsigned 8-bit integer)\n",
    "data_np = data_np.astype(np.uint8)\n",
    "\n",
    "plt.imshow(data_np)\n",
    "\n"
   ]
  },
  {
   "cell_type": "code",
   "execution_count": null,
   "metadata": {},
   "outputs": [],
   "source": []
  }
 ],
 "metadata": {
  "kernelspec": {
   "display_name": "Python 3.9.12",
   "language": "python",
   "name": "python3"
  },
  "language_info": {
   "codemirror_mode": {
    "name": "ipython",
    "version": 3
   },
   "file_extension": ".py",
   "mimetype": "text/x-python",
   "name": "python",
   "nbconvert_exporter": "python",
   "pygments_lexer": "ipython3",
   "version": "3.9.12"
  },
  "orig_nbformat": 4,
  "vscode": {
   "interpreter": {
    "hash": "4befb57ef0277b5fc824b0f8901a6b4e41f1fec0de5c3e8905a0b119296f8abb"
   }
  }
 },
 "nbformat": 4,
 "nbformat_minor": 2
}
