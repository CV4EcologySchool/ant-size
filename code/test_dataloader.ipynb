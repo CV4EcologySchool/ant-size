{
 "cells": [
  {
   "cell_type": "code",
   "execution_count": 1,
   "metadata": {},
   "outputs": [],
   "source": [
    "from dataset import SizeDataset\n",
    "from torch.utils.data import DataLoader\n",
    "import yaml"
   ]
  },
  {
   "cell_type": "code",
   "execution_count": 2,
   "metadata": {},
   "outputs": [],
   "source": [
    "cfg = yaml.safe_load(open('../configs/ant_size.yaml'))\n",
    "dataset_instance = SizeDataset(cfg, \"train\")"
   ]
  },
  {
   "cell_type": "code",
   "execution_count": 3,
   "metadata": {},
   "outputs": [
    {
     "name": "stdout",
     "output_type": "stream",
     "text": [
      "/Users/nsi/Documents/ant-size/data\n"
     ]
    }
   ],
   "source": [
    "print(dataset_instance.data_root)"
   ]
  },
  {
   "cell_type": "code",
   "execution_count": 5,
   "metadata": {},
   "outputs": [],
   "source": [
    "dataloader = DataLoader(\n",
    "    dataset_instance, batch_size=16, shuffle=False, num_workers=1\n",
    ")"
   ]
  },
  {
   "cell_type": "code",
   "execution_count": 6,
   "metadata": {},
   "outputs": [],
   "source": [
    "datas, labels = next(iter(dataloader))\n",
    "batch = list(zip(datas, labels))\n",
    "\n",
    "# Grab the first (data, label) pair from the zipped list\n",
    "example = batch[0]\n",
    "data, label = example"
   ]
  },
  {
   "cell_type": "code",
   "execution_count": 7,
   "metadata": {},
   "outputs": [
    {
     "data": {
      "text/plain": [
       "tensor([[[0.9137, 0.9137, 0.9176,  ..., 0.9098, 0.9059, 0.9059],\n",
       "         [0.9137, 0.9137, 0.9176,  ..., 0.9098, 0.9059, 0.9059],\n",
       "         [0.9098, 0.9098, 0.9137,  ..., 0.9059, 0.9059, 0.9059],\n",
       "         ...,\n",
       "         [0.9059, 0.9059, 0.9059,  ..., 0.8980, 0.8980, 0.8980],\n",
       "         [0.9098, 0.9098, 0.9059,  ..., 0.8941, 0.8941, 0.8941],\n",
       "         [0.9098, 0.9098, 0.9059,  ..., 0.8941, 0.8941, 0.8941]],\n",
       "\n",
       "        [[0.9137, 0.9137, 0.9176,  ..., 0.9098, 0.9059, 0.9059],\n",
       "         [0.9137, 0.9137, 0.9176,  ..., 0.9098, 0.9059, 0.9059],\n",
       "         [0.9098, 0.9098, 0.9137,  ..., 0.9059, 0.9059, 0.9059],\n",
       "         ...,\n",
       "         [0.9059, 0.9059, 0.9059,  ..., 0.8980, 0.8980, 0.8980],\n",
       "         [0.9098, 0.9098, 0.9059,  ..., 0.8941, 0.8941, 0.8941],\n",
       "         [0.9098, 0.9098, 0.9059,  ..., 0.8941, 0.8941, 0.8941]],\n",
       "\n",
       "        [[0.9137, 0.9137, 0.9176,  ..., 0.9098, 0.9059, 0.9059],\n",
       "         [0.9137, 0.9137, 0.9176,  ..., 0.9098, 0.9059, 0.9059],\n",
       "         [0.9098, 0.9098, 0.9137,  ..., 0.9059, 0.9059, 0.9059],\n",
       "         ...,\n",
       "         [0.9059, 0.9059, 0.9059,  ..., 0.8980, 0.8980, 0.8980],\n",
       "         [0.9098, 0.9098, 0.9059,  ..., 0.8941, 0.8941, 0.8941],\n",
       "         [0.9098, 0.9098, 0.9059,  ..., 0.8941, 0.8941, 0.8941]]])"
      ]
     },
     "execution_count": 7,
     "metadata": {},
     "output_type": "execute_result"
    }
   ],
   "source": [
    "data"
   ]
  },
  {
   "cell_type": "code",
   "execution_count": 16,
   "metadata": {},
   "outputs": [
    {
     "name": "stdout",
     "output_type": "stream",
     "text": [
      "Looking at dataset:\n"
     ]
    },
    {
     "ename": "AttributeError",
     "evalue": "'tuple' object has no attribute 'shape'",
     "output_type": "error",
     "traceback": [
      "\u001b[0;31m---------------------------------------------------------------------------\u001b[0m",
      "\u001b[0;31mAttributeError\u001b[0m                            Traceback (most recent call last)",
      "\u001b[1;32m/Users/nsi/Documents/ant-size/code/test_dataloader.ipynb Cell 5\u001b[0m in \u001b[0;36m<cell line: 2>\u001b[0;34m()\u001b[0m\n\u001b[1;32m      <a href='vscode-notebook-cell:/Users/nsi/Documents/ant-size/code/test_dataloader.ipynb#ch0000014?line=0'>1</a>\u001b[0m \u001b[39mprint\u001b[39m(\u001b[39m'\u001b[39m\u001b[39mLooking at dataset:\u001b[39m\u001b[39m'\u001b[39m)\n\u001b[0;32m----> <a href='vscode-notebook-cell:/Users/nsi/Documents/ant-size/code/test_dataloader.ipynb#ch0000014?line=1'>2</a>\u001b[0m \u001b[39mprint\u001b[39m(x\u001b[39m.\u001b[39;49mshape)\n\u001b[1;32m      <a href='vscode-notebook-cell:/Users/nsi/Documents/ant-size/code/test_dataloader.ipynb#ch0000014?line=2'>3</a>\u001b[0m \u001b[39mprint\u001b[39m(\u001b[39mf\u001b[39m\u001b[39m'\u001b[39m\u001b[39m\\t\u001b[39;00m\u001b[39mdtype: \u001b[39m\u001b[39m{\u001b[39;00mx\u001b[39m.\u001b[39mdtype\u001b[39m}\u001b[39;00m\u001b[39m'\u001b[39m)\n\u001b[1;32m      <a href='vscode-notebook-cell:/Users/nsi/Documents/ant-size/code/test_dataloader.ipynb#ch0000014?line=3'>4</a>\u001b[0m \u001b[39mprint\u001b[39m(\u001b[39mf\u001b[39m\u001b[39m'\u001b[39m\u001b[39m\\t\u001b[39;00m\u001b[39mmin:   \u001b[39m\u001b[39m{\u001b[39;00mnp\u001b[39m.\u001b[39mmin(data_np)\u001b[39m}\u001b[39;00m\u001b[39m'\u001b[39m)\n",
      "\u001b[0;31mAttributeError\u001b[0m: 'tuple' object has no attribute 'shape'"
     ]
    }
   ],
   "source": [
    "print('Looking at dataset:')\n",
    "print(dataloader.shape)\n",
    "print(f'\\tdtype: {x.dtype}')\n",
    "print(f'\\tmin:   {np.min(data_np)}')\n",
    "log.info(f'\\tmax:   {np.max(data_np)}')\n",
    "log.info(f'\\tlabel: {label}')"
   ]
  },
  {
   "cell_type": "code",
   "execution_count": 11,
   "metadata": {},
   "outputs": [
    {
     "ename": "NameError",
     "evalue": "name 'dataset_instancwe' is not defined",
     "output_type": "error",
     "traceback": [
      "\u001b[0;31m---------------------------------------------------------------------------\u001b[0m",
      "\u001b[0;31mNameError\u001b[0m                                 Traceback (most recent call last)",
      "\u001b[1;32m/Users/nsi/Documents/ant-size/code/test_dataloader.ipynb Cell 5\u001b[0m in \u001b[0;36m<cell line: 1>\u001b[0;34m()\u001b[0m\n\u001b[0;32m----> <a href='vscode-notebook-cell:/Users/nsi/Documents/ant-size/code/test_dataloader.ipynb#ch0000012?line=0'>1</a>\u001b[0m datas, labels \u001b[39m=\u001b[39m \u001b[39mnext\u001b[39m(\u001b[39miter\u001b[39m(dataset_instancwe))\n\u001b[1;32m      <a href='vscode-notebook-cell:/Users/nsi/Documents/ant-size/code/test_dataloader.ipynb#ch0000012?line=1'>2</a>\u001b[0m batch \u001b[39m=\u001b[39m \u001b[39mlist\u001b[39m(\u001b[39mzip\u001b[39m(datas, labels))\n\u001b[1;32m      <a href='vscode-notebook-cell:/Users/nsi/Documents/ant-size/code/test_dataloader.ipynb#ch0000012?line=3'>4</a>\u001b[0m \u001b[39m# Grab the first (data, label) pair from the zipped list\u001b[39;00m\n",
      "\u001b[0;31mNameError\u001b[0m: name 'dataset_instancwe' is not defined"
     ]
    }
   ],
   "source": [
    "datas, labels = next(iter(dataset_instancwe))\n",
    "batch = list(zip(datas, labels))\n",
    "\n",
    "# Grab the first (data, label) pair from the zipped list\n",
    "example = batch[0]\n",
    "data, label = exampl"
   ]
  },
  {
   "cell_type": "code",
   "execution_count": 12,
   "metadata": {},
   "outputs": [
    {
     "ename": "AttributeError",
     "evalue": "'CTDataset' object has no attribute 'numpy'",
     "output_type": "error",
     "traceback": [
      "\u001b[0;31m---------------------------------------------------------------------------\u001b[0m",
      "\u001b[0;31mAttributeError\u001b[0m                            Traceback (most recent call last)",
      "\u001b[1;32m/Users/nsi/Documents/ant-size/code/test_dataloader.ipynb Cell 6\u001b[0m in \u001b[0;36m<cell line: 1>\u001b[0;34m()\u001b[0m\n\u001b[0;32m----> <a href='vscode-notebook-cell:/Users/nsi/Documents/ant-size/code/test_dataloader.ipynb#ch0000011?line=0'>1</a>\u001b[0m data_np \u001b[39m=\u001b[39m dataset_instance\u001b[39m.\u001b[39;49mnumpy()\n\u001b[1;32m      <a href='vscode-notebook-cell:/Users/nsi/Documents/ant-size/code/test_dataloader.ipynb#ch0000011?line=1'>2</a>\u001b[0m log\u001b[39m.\u001b[39minfo(\u001b[39m'\u001b[39m\u001b[39mWriting data to disk:\u001b[39m\u001b[39m'\u001b[39m)\n\u001b[1;32m      <a href='vscode-notebook-cell:/Users/nsi/Documents/ant-size/code/test_dataloader.ipynb#ch0000011?line=2'>3</a>\u001b[0m log\u001b[39m.\u001b[39minfo(\u001b[39mf\u001b[39m\u001b[39m'\u001b[39m\u001b[39m\\t\u001b[39;00m\u001b[39mshape: \u001b[39m\u001b[39m{\u001b[39;00mdata_np\u001b[39m.\u001b[39mshape\u001b[39m}\u001b[39;00m\u001b[39m'\u001b[39m)\n",
      "\u001b[0;31mAttributeError\u001b[0m: 'CTDataset' object has no attribute 'numpy'"
     ]
    }
   ],
   "source": [
    "data_np = dataset_instance.numpy()\n",
    "log.info('Writing data to disk:')\n",
    "log.info(f'\\tshape: {data_np.shape}')\n",
    "log.info(f'\\tdtype: {data_np.dtype}')\n",
    "log.info(f'\\tmin:   {np.min(data_np)}')\n",
    "log.info(f'\\tmax:   {np.max(data_np)}')\n",
    "log.info(f'\\tlabel: {label}')\n",
    "\n",
    "# Transpose C,W,H to W,H,C for OpenCV\n",
    "data_np = np.transpose(data_np, (1, 2, 0))\n",
    "\n",
    "# Convert range from [0.0, 1.0] to [0, 255]\n",
    "data_np = data_np * 255.0\n",
    "\n",
    "# Round to nearest whole number\n",
    "data_np = np.around(data_np)\n",
    "\n",
    "# Truncate negative numbers\n",
    "data_np[data_np < 0] = 0\n",
    "\n",
    "# Truncate out-of-bounds numbers\n",
    "data_np[data_np > 255] = 255\n",
    "\n",
    "# Convert from existing np.float32 to np.uint8 (unsigned 8-bit integer)\n",
    "data_np = data_np.astype(np.uint8)\n",
    "\n",
    "plt.imshow(data_np)"
   ]
  },
  {
   "cell_type": "code",
   "execution_count": null,
   "metadata": {},
   "outputs": [],
   "source": []
  }
 ],
 "metadata": {
  "kernelspec": {
   "display_name": "Python 3.9.12",
   "language": "python",
   "name": "python3"
  },
  "language_info": {
   "codemirror_mode": {
    "name": "ipython",
    "version": 3
   },
   "file_extension": ".py",
   "mimetype": "text/x-python",
   "name": "python",
   "nbconvert_exporter": "python",
   "pygments_lexer": "ipython3",
   "version": "3.9.12"
  },
  "orig_nbformat": 4,
  "vscode": {
   "interpreter": {
    "hash": "4befb57ef0277b5fc824b0f8901a6b4e41f1fec0de5c3e8905a0b119296f8abb"
   }
  }
 },
 "nbformat": 4,
 "nbformat_minor": 2
}
