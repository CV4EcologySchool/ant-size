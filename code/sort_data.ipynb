{
 "cells": [
  {
   "cell_type": "markdown",
   "metadata": {},
   "source": [
    "Code to organize data into train/test split"
   ]
  },
  {
   "cell_type": "code",
   "execution_count": 146,
   "metadata": {},
   "outputs": [],
   "source": [
    "import numpy as np\n",
    "import pandas as pd\n",
    "import matplotlib.pyplot as plt\n",
    "import shutil"
   ]
  },
  {
   "cell_type": "markdown",
   "metadata": {},
   "source": []
  },
  {
   "cell_type": "code",
   "execution_count": 148,
   "metadata": {},
   "outputs": [
    {
     "data": {
      "text/html": [
       "<div>\n",
       "<style scoped>\n",
       "    .dataframe tbody tr th:only-of-type {\n",
       "        vertical-align: middle;\n",
       "    }\n",
       "\n",
       "    .dataframe tbody tr th {\n",
       "        vertical-align: top;\n",
       "    }\n",
       "\n",
       "    .dataframe thead th {\n",
       "        text-align: right;\n",
       "    }\n",
       "</style>\n",
       "<table border=\"1\" class=\"dataframe\">\n",
       "  <thead>\n",
       "    <tr style=\"text-align: right;\">\n",
       "      <th></th>\n",
       "      <th>id</th>\n",
       "      <th>mass</th>\n",
       "      <th>date</th>\n",
       "      <th>id1</th>\n",
       "      <th>id2</th>\n",
       "      <th>object</th>\n",
       "      <th>camera</th>\n",
       "      <th>filename</th>\n",
       "      <th>mass_mg</th>\n",
       "    </tr>\n",
       "  </thead>\n",
       "  <tbody>\n",
       "    <tr>\n",
       "      <th>0</th>\n",
       "      <td>10</td>\n",
       "      <td>0.001</td>\n",
       "      <td>2019-06-27-11</td>\n",
       "      <td>3A11</td>\n",
       "      <td>3A12</td>\n",
       "      <td>ant</td>\n",
       "      <td>DSLR</td>\n",
       "      <td>2019-06-27-11_3A11_3A12_ant_DSLR_CROPPED_0.001...</td>\n",
       "      <td>1.0</td>\n",
       "    </tr>\n",
       "    <tr>\n",
       "      <th>1</th>\n",
       "      <td>10</td>\n",
       "      <td>0.001</td>\n",
       "      <td>2019-06-27-11</td>\n",
       "      <td>3A10</td>\n",
       "      <td>3A38</td>\n",
       "      <td>ant</td>\n",
       "      <td>DSLR</td>\n",
       "      <td>2019-06-27-11_3A10_3A38_ant_DSLR_CROPPED_0.001...</td>\n",
       "      <td>1.0</td>\n",
       "    </tr>\n",
       "    <tr>\n",
       "      <th>2</th>\n",
       "      <td>10</td>\n",
       "      <td>0.001</td>\n",
       "      <td>2019-06-27-11</td>\n",
       "      <td>3A11</td>\n",
       "      <td>3A21</td>\n",
       "      <td>ant</td>\n",
       "      <td>DSLR</td>\n",
       "      <td>2019-06-27-11_3A11_3A21_ant_DSLR_CROPPED_0.001...</td>\n",
       "      <td>1.0</td>\n",
       "    </tr>\n",
       "    <tr>\n",
       "      <th>3</th>\n",
       "      <td>10</td>\n",
       "      <td>0.001</td>\n",
       "      <td>2019-06-27-11</td>\n",
       "      <td>3A11</td>\n",
       "      <td>3A46</td>\n",
       "      <td>ant</td>\n",
       "      <td>DSLR</td>\n",
       "      <td>2019-06-27-11_3A11_3A46_ant_DSLR_CROPPED_0.001...</td>\n",
       "      <td>1.0</td>\n",
       "    </tr>\n",
       "    <tr>\n",
       "      <th>4</th>\n",
       "      <td>10</td>\n",
       "      <td>0.001</td>\n",
       "      <td>2019-06-27-11</td>\n",
       "      <td>3A11</td>\n",
       "      <td>3A29</td>\n",
       "      <td>ant</td>\n",
       "      <td>DSLR</td>\n",
       "      <td>2019-06-27-11_3A11_3A29_ant_DSLR_CROPPED_0.001...</td>\n",
       "      <td>1.0</td>\n",
       "    </tr>\n",
       "  </tbody>\n",
       "</table>\n",
       "</div>"
      ],
      "text/plain": [
       "   id   mass           date   id1   id2 object camera  \\\n",
       "0  10  0.001  2019-06-27-11  3A11  3A12    ant   DSLR   \n",
       "1  10  0.001  2019-06-27-11  3A10  3A38    ant   DSLR   \n",
       "2  10  0.001  2019-06-27-11  3A11  3A21    ant   DSLR   \n",
       "3  10  0.001  2019-06-27-11  3A11  3A46    ant   DSLR   \n",
       "4  10  0.001  2019-06-27-11  3A11  3A29    ant   DSLR   \n",
       "\n",
       "                                            filename  mass_mg  \n",
       "0  2019-06-27-11_3A11_3A12_ant_DSLR_CROPPED_0.001...      1.0  \n",
       "1  2019-06-27-11_3A10_3A38_ant_DSLR_CROPPED_0.001...      1.0  \n",
       "2  2019-06-27-11_3A11_3A21_ant_DSLR_CROPPED_0.001...      1.0  \n",
       "3  2019-06-27-11_3A11_3A46_ant_DSLR_CROPPED_0.001...      1.0  \n",
       "4  2019-06-27-11_3A11_3A29_ant_DSLR_CROPPED_0.001...      1.0  "
      ]
     },
     "execution_count": 148,
     "metadata": {},
     "output_type": "execute_result"
    }
   ],
   "source": [
    "df = pd.read_csv('../data/ant_size_dataset.csv')\n",
    "df['mass_mg'] = df['mass']*1000\n",
    "df.head()"
   ]
  },
  {
   "cell_type": "code",
   "execution_count": 149,
   "metadata": {},
   "outputs": [
    {
     "name": "stderr",
     "output_type": "stream",
     "text": [
      "/var/folders/jt/lslf8gvn015gpvtk775yzz7h0000gn/T/ipykernel_4310/2640778318.py:7: MatplotlibDeprecationWarning: The 'b' parameter of grid() has been renamed 'visible' since Matplotlib 3.5; support for the old name will be dropped two minor releases later.\n",
      "  plt.grid(b=None)\n"
     ]
    },
    {
     "data": {
      "image/png": "[encoded data removed]",
      "text/plain": [
       "<Figure size 1200x600 with 1 Axes>"
      ]
     },
     "metadata": {
      "needs_background": "light"
     },
     "output_type": "display_data"
    }
   ],
   "source": [
    "plt.rcParams['figure.figsize'] = [12, 6]\n",
    "plt.rcParams['figure.dpi'] = 100\n",
    "plt.hist(df['mass'], bins=500)#, bins = range(0, 30, 1))\n",
    "plt.xlabel('Mass (mg)')\n",
    "plt.ylabel('Number of images')\n",
    "plt.title('Images per category')\n",
    "plt.grid(b=None)\n",
    "plt.tight_layout()\n",
    "plt.tick_params(axis='x', which='both', bottom=True, top=False)\n",
    "plt.tick_params(axis='y', which='both', right=False, left=True)\n",
    "plt.show()"
   ]
  },
  {
   "cell_type": "code",
   "execution_count": 150,
   "metadata": {},
   "outputs": [],
   "source": [
    "# organize mass into bins\n",
    "bins = [0, 2, 5, 10, 15, 60]\n",
    "df['binned'] = pd.cut(df['mass_mg'], bins)\n"
   ]
  },
  {
   "cell_type": "code",
   "execution_count": 151,
   "metadata": {},
   "outputs": [],
   "source": [
    "# rename category naumes\n",
    "df['cat'] = df['binned'].astype('category')\n",
    "df['cat'] = df['binned'].cat.rename_categories([0, 1 ,2, 3, 4])"
   ]
  },
  {
   "cell_type": "code",
   "execution_count": 152,
   "metadata": {},
   "outputs": [
    {
     "data": {
      "text/plain": [
       "[0]\n",
       "Categories (5, int64): [0 < 1 < 2 < 3 < 4]"
      ]
     },
     "execution_count": 152,
     "metadata": {},
     "output_type": "execute_result"
    }
   ],
   "source": [
    "# check if sorted correctly (should only show one category)\n",
    "category1 = df['binned'].unique()[0]\n",
    "df.loc[df.binned == category1]['cat'].unique()"
   ]
  },
  {
   "cell_type": "code",
   "execution_count": 154,
   "metadata": {},
   "outputs": [],
   "source": [
    "# randomly select 10% across bins for test set\n",
    "samples = []\n",
    "for group in df.binned.unique():\n",
    "    s = df.loc[df.binned== group].sample(frac=0.1).reset_index(drop=True)\n",
    "    samples.append(s)\n",
    "    \n",
    "test = pd.concat(samples, axis=0)"
   ]
  },
  {
   "cell_type": "code",
   "execution_count": 155,
   "metadata": {},
   "outputs": [],
   "source": [
    "# remove test set from training set\n",
    "train = df[~df.filename.isin(test.filename)]"
   ]
  },
  {
   "cell_type": "code",
   "execution_count": 156,
   "metadata": {},
   "outputs": [
    {
     "name": "stdout",
     "output_type": "stream",
     "text": [
      "Test set has 510 images\n",
      "Train set has 4584 images\n"
     ]
    }
   ],
   "source": [
    "print('Test set has ' + str(len(test)) + ' images') \n",
    "print('Train set has ' + str(len(train)) + ' images')"
   ]
  },
  {
   "cell_type": "code",
   "execution_count": 157,
   "metadata": {},
   "outputs": [],
   "source": [
    "test_strs = [str(x) for x in test.cat] \n",
    "train_strs = [str(x) for x in train.cat]"
   ]
  },
  {
   "cell_type": "code",
   "execution_count": 158,
   "metadata": {},
   "outputs": [
    {
     "name": "stderr",
     "output_type": "stream",
     "text": [
      "/var/folders/jt/lslf8gvn015gpvtk775yzz7h0000gn/T/ipykernel_4310/2914089241.py:7: MatplotlibDeprecationWarning: The 'b' parameter of grid() has been renamed 'visible' since Matplotlib 3.5; support for the old name will be dropped two minor releases later.\n",
      "  plt.grid(b=None)\n"
     ]
    },
    {
     "data": {
      "image/png": "[encoded data removed]",
      "text/plain": [
       "<Figure size 1200x600 with 1 Axes>"
      ]
     },
     "metadata": {
      "needs_background": "light"
     },
     "output_type": "display_data"
    }
   ],
   "source": [
    "# look at test set distribution\n",
    "plt.rcParams['figure.figsize'] = [12, 6]\n",
    "plt.rcParams['figure.dpi'] = 100\n",
    "plt.hist(test_strs, bins=range(0,6))\n",
    "plt.ylabel('Number of images')\n",
    "plt.title('Images per category')\n",
    "plt.grid(b=None)\n",
    "plt.tight_layout()\n",
    "#plt.tick_params(axis='x', which='both', bottom=True, top=False)\n",
    "#plt.tick_params(axis='y', which='both', right=False, left=True)\n",
    "plt.show()"
   ]
  },
  {
   "cell_type": "code",
   "execution_count": 159,
   "metadata": {},
   "outputs": [
    {
     "name": "stderr",
     "output_type": "stream",
     "text": [
      "/var/folders/jt/lslf8gvn015gpvtk775yzz7h0000gn/T/ipykernel_4310/1517324351.py:7: MatplotlibDeprecationWarning: The 'b' parameter of grid() has been renamed 'visible' since Matplotlib 3.5; support for the old name will be dropped two minor releases later.\n",
      "  plt.grid(b=None)\n"
     ]
    },
    {
     "data": {
      "image/png": "[encoded data removed]",
      "text/plain": [
       "<Figure size 1200x600 with 1 Axes>"
      ]
     },
     "metadata": {
      "needs_background": "light"
     },
     "output_type": "display_data"
    }
   ],
   "source": [
    "# look at test set distribution\n",
    "plt.rcParams['figure.figsize'] = [12, 6]\n",
    "plt.rcParams['figure.dpi'] = 100\n",
    "plt.hist(train_strs, bins=range(0,6))\n",
    "plt.ylabel('Number of images')\n",
    "plt.title('Images per category')\n",
    "plt.grid(b=None)\n",
    "plt.tight_layout()\n",
    "#plt.tick_params(axis='x', which='both', bottom=True, top=False)\n",
    "#plt.tick_params(axis='y', which='both', right=False, left=True)\n",
    "plt.show()"
   ]
  },
  {
   "cell_type": "code",
   "execution_count": 145,
   "metadata": {},
   "outputs": [],
   "source": [
    "test_folder = '/Users/nsi/Documents/ant-size/train/test'\n",
    "train_folder = '/Users/nsi/Documents/ant-size/train/train'\n",
    "for root, dirs, files in os.walk('/Users/nsi/Documents/ant-size/data'):\n",
    "    for file in files:\n",
    "        if file.endswith('.JPG'):\n",
    "            if (test['filename'].eq(file)).any():\n",
    "                shutil.copy(os.path.join(root, file), test_folder)\n",
    "            else:\n",
    "                shutil.copy(os.path.join(root, file), train_folder)"
   ]
  },
  {
   "cell_type": "code",
   "execution_count": 162,
   "metadata": {},
   "outputs": [],
   "source": [
    "train.to_csv('../data/train_ant_size.csv', index_label = False)\n",
    "test.to_csv('../data/test_ant_size.csv', index_label = False)"
   ]
  },
  {
   "cell_type": "code",
   "execution_count": null,
   "metadata": {},
   "outputs": [],
   "source": []
  }
 ],
 "metadata": {
  "kernelspec": {
   "display_name": "Python 3.9.12",
   "language": "python",
   "name": "python3"
  },
  "language_info": {
   "codemirror_mode": {
    "name": "ipython",
    "version": 3
   },
   "file_extension": ".py",
   "mimetype": "text/x-python",
   "name": "python",
   "nbconvert_exporter": "python",
   "pygments_lexer": "ipython3",
   "version": "3.9.12"
  },
  "orig_nbformat": 4,
  "vscode": {
   "interpreter": {
    "hash": "4befb57ef0277b5fc824b0f8901a6b4e41f1fec0de5c3e8905a0b119296f8abb"
   }
  }
 },
 "nbformat": 4,
 "nbformat_minor": 2
}
