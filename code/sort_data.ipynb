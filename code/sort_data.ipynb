{
 "cells": [
  {
   "cell_type": "markdown",
   "metadata": {},
   "source": [
    "Code to organize data into train/test split"
   ]
  },
  {
   "cell_type": "code",
   "execution_count": 166,
   "metadata": {},
   "outputs": [],
   "source": [
    "import numpy as np\n",
    "import pandas as pd\n",
    "import matplotlib.pyplot as plt\n",
    "import shutil"
   ]
  },
  {
   "cell_type": "markdown",
   "metadata": {},
   "source": []
  },
  {
   "cell_type": "code",
   "execution_count": 168,
   "metadata": {},
   "outputs": [
    {
     "data": {
      "text/html": [
       "<div>\n",
       "<style scoped>\n",
       "    .dataframe tbody tr th:only-of-type {\n",
       "        vertical-align: middle;\n",
       "    }\n",
       "\n",
       "    .dataframe tbody tr th {\n",
       "        vertical-align: top;\n",
       "    }\n",
       "\n",
       "    .dataframe thead th {\n",
       "        text-align: right;\n",
       "    }\n",
       "</style>\n",
       "<table border=\"1\" class=\"dataframe\">\n",
       "  <thead>\n",
       "    <tr style=\"text-align: right;\">\n",
       "      <th></th>\n",
       "      <th>id</th>\n",
       "      <th>mass</th>\n",
       "      <th>date</th>\n",
       "      <th>id1</th>\n",
       "      <th>id2</th>\n",
       "      <th>object</th>\n",
       "      <th>camera</th>\n",
       "      <th>filename</th>\n",
       "      <th>mass_mg</th>\n",
       "    </tr>\n",
       "  </thead>\n",
       "  <tbody>\n",
       "    <tr>\n",
       "      <th>0</th>\n",
       "      <td>10</td>\n",
       "      <td>0.001</td>\n",
       "      <td>2019-06-27-11</td>\n",
       "      <td>3A11</td>\n",
       "      <td>3A12</td>\n",
       "      <td>ant</td>\n",
       "      <td>DSLR</td>\n",
       "      <td>2019-06-27-11_3A11_3A12_ant_DSLR_CROPPED_0.001...</td>\n",
       "      <td>1.0</td>\n",
       "    </tr>\n",
       "    <tr>\n",
       "      <th>1</th>\n",
       "      <td>10</td>\n",
       "      <td>0.001</td>\n",
       "      <td>2019-06-27-11</td>\n",
       "      <td>3A10</td>\n",
       "      <td>3A38</td>\n",
       "      <td>ant</td>\n",
       "      <td>DSLR</td>\n",
       "      <td>2019-06-27-11_3A10_3A38_ant_DSLR_CROPPED_0.001...</td>\n",
       "      <td>1.0</td>\n",
       "    </tr>\n",
       "    <tr>\n",
       "      <th>2</th>\n",
       "      <td>10</td>\n",
       "      <td>0.001</td>\n",
       "      <td>2019-06-27-11</td>\n",
       "      <td>3A11</td>\n",
       "      <td>3A21</td>\n",
       "      <td>ant</td>\n",
       "      <td>DSLR</td>\n",
       "      <td>2019-06-27-11_3A11_3A21_ant_DSLR_CROPPED_0.001...</td>\n",
       "      <td>1.0</td>\n",
       "    </tr>\n",
       "    <tr>\n",
       "      <th>3</th>\n",
       "      <td>10</td>\n",
       "      <td>0.001</td>\n",
       "      <td>2019-06-27-11</td>\n",
       "      <td>3A11</td>\n",
       "      <td>3A46</td>\n",
       "      <td>ant</td>\n",
       "      <td>DSLR</td>\n",
       "      <td>2019-06-27-11_3A11_3A46_ant_DSLR_CROPPED_0.001...</td>\n",
       "      <td>1.0</td>\n",
       "    </tr>\n",
       "    <tr>\n",
       "      <th>4</th>\n",
       "      <td>10</td>\n",
       "      <td>0.001</td>\n",
       "      <td>2019-06-27-11</td>\n",
       "      <td>3A11</td>\n",
       "      <td>3A29</td>\n",
       "      <td>ant</td>\n",
       "      <td>DSLR</td>\n",
       "      <td>2019-06-27-11_3A11_3A29_ant_DSLR_CROPPED_0.001...</td>\n",
       "      <td>1.0</td>\n",
       "    </tr>\n",
       "  </tbody>\n",
       "</table>\n",
       "</div>"
      ],
      "text/plain": [
       "   id   mass           date   id1   id2 object camera  \\\n",
       "0  10  0.001  2019-06-27-11  3A11  3A12    ant   DSLR   \n",
       "1  10  0.001  2019-06-27-11  3A10  3A38    ant   DSLR   \n",
       "2  10  0.001  2019-06-27-11  3A11  3A21    ant   DSLR   \n",
       "3  10  0.001  2019-06-27-11  3A11  3A46    ant   DSLR   \n",
       "4  10  0.001  2019-06-27-11  3A11  3A29    ant   DSLR   \n",
       "\n",
       "                                            filename  mass_mg  \n",
       "0  2019-06-27-11_3A11_3A12_ant_DSLR_CROPPED_0.001...      1.0  \n",
       "1  2019-06-27-11_3A10_3A38_ant_DSLR_CROPPED_0.001...      1.0  \n",
       "2  2019-06-27-11_3A11_3A21_ant_DSLR_CROPPED_0.001...      1.0  \n",
       "3  2019-06-27-11_3A11_3A46_ant_DSLR_CROPPED_0.001...      1.0  \n",
       "4  2019-06-27-11_3A11_3A29_ant_DSLR_CROPPED_0.001...      1.0  "
      ]
     },
     "execution_count": 168,
     "metadata": {},
     "output_type": "execute_result"
    }
   ],
   "source": [
    "df = pd.read_csv('../csv/ant_size_dataset.csv')\n",
    "df['mass_mg'] = df['mass']*1000\n",
    "df.head()"
   ]
  },
  {
   "cell_type": "code",
   "execution_count": 169,
   "metadata": {},
   "outputs": [
    {
     "name": "stderr",
     "output_type": "stream",
     "text": [
      "/var/folders/jt/lslf8gvn015gpvtk775yzz7h0000gn/T/ipykernel_4310/1881589808.py:7: MatplotlibDeprecationWarning: The 'b' parameter of grid() has been renamed 'visible' since Matplotlib 3.5; support for the old name will be dropped two minor releases later.\n",
      "  plt.grid(b=None)\n"
     ]
    },
    {
     "data": {
      "image/png": "[encoded data removed]",
      "text/plain": [
       "<Figure size 1200x600 with 1 Axes>"
      ]
     },
     "metadata": {
      "needs_background": "light"
     },
     "output_type": "display_data"
    }
   ],
   "source": [
    "plt.rcParams['figure.figsize'] = [12, 6]\n",
    "plt.rcParams['figure.dpi'] = 100\n",
    "plt.hist(df['mass'], bins=100)#, bins = range(0, 30, 1))\n",
    "plt.xlabel('Mass (mg)')\n",
    "plt.ylabel('Number of images')\n",
    "plt.title('Images per category')\n",
    "plt.grid(b=None)\n",
    "plt.tight_layout()\n",
    "plt.tick_params(axis='x', which='both', bottom=True, top=False)\n",
    "plt.tick_params(axis='y', which='both', right=False, left=True)\n",
    "plt.show()"
   ]
  },
  {
   "cell_type": "code",
   "execution_count": 170,
   "metadata": {},
   "outputs": [],
   "source": [
    "# organize mass into bins\n",
    "bins = [0, 2, 5, 10, 15, 60]\n",
    "df['binned'] = pd.cut(df['mass_mg'], bins)\n"
   ]
  },
  {
   "cell_type": "code",
   "execution_count": 171,
   "metadata": {},
   "outputs": [],
   "source": [
    "# rename category naumes\n",
    "df['cat'] = df['binned'].astype('category')\n",
    "df['cat'] = df['binned'].cat.rename_categories([0, 1 ,2, 3, 4])"
   ]
  },
  {
   "cell_type": "code",
   "execution_count": 172,
   "metadata": {},
   "outputs": [
    {
     "data": {
      "text/plain": [
       "[0]\n",
       "Categories (5, int64): [0 < 1 < 2 < 3 < 4]"
      ]
     },
     "execution_count": 172,
     "metadata": {},
     "output_type": "execute_result"
    }
   ],
   "source": [
    "# check if sorted correctly (should only show one category)\n",
    "category1 = df['binned'].unique()[0]\n",
    "df.loc[df.binned == category1]['cat'].unique()"
   ]
  },
  {
   "cell_type": "code",
   "execution_count": 173,
   "metadata": {},
   "outputs": [],
   "source": [
    "# randomly select 10% across bins for test set\n",
    "samples = []\n",
    "for group in df.binned.unique():\n",
    "    s = df.loc[df.binned== group].sample(frac=0.1).reset_index(drop=True)\n",
    "    samples.append(s)\n",
    "    \n",
    "test = pd.concat(samples, axis=0)"
   ]
  },
  {
   "cell_type": "code",
   "execution_count": 174,
   "metadata": {},
   "outputs": [],
   "source": [
    "# remove test set from training set\n",
    "train = df[~df.filename.isin(test.filename)]"
   ]
  },
  {
   "cell_type": "code",
   "execution_count": 175,
   "metadata": {},
   "outputs": [
    {
     "name": "stdout",
     "output_type": "stream",
     "text": [
      "Test set has 510 images\n",
      "Train set has 4584 images\n"
     ]
    }
   ],
   "source": [
    "print('Test set has ' + str(len(test)) + ' images') \n",
    "print('Train set has ' + str(len(train)) + ' images')"
   ]
  },
  {
   "cell_type": "code",
   "execution_count": 189,
   "metadata": {},
   "outputs": [
    {
     "data": {
      "text/plain": [
       "5094"
      ]
     },
     "execution_count": 189,
     "metadata": {},
     "output_type": "execute_result"
    }
   ],
   "source": [
    "510+4584"
   ]
  },
  {
   "cell_type": "code",
   "execution_count": 176,
   "metadata": {},
   "outputs": [],
   "source": [
    "test_strs = [str(x) for x in test.cat] \n",
    "train_strs = [str(x) for x in train.cat]"
   ]
  },
  {
   "cell_type": "code",
   "execution_count": 158,
   "metadata": {},
   "outputs": [
    {
     "name": "stderr",
     "output_type": "stream",
     "text": [
      "/var/folders/jt/lslf8gvn015gpvtk775yzz7h0000gn/T/ipykernel_4310/2914089241.py:7: MatplotlibDeprecationWarning: The 'b' parameter of grid() has been renamed 'visible' since Matplotlib 3.5; support for the old name will be dropped two minor releases later.\n",
      "  plt.grid(b=None)\n"
     ]
    },
    {
     "data": {
      "image/png": "[encoded data removed]",
      "text/plain": [
       "<Figure size 1200x600 with 1 Axes>"
      ]
     },
     "metadata": {
      "needs_background": "light"
     },
     "output_type": "display_data"
    }
   ],
   "source": [
    "# look at test set distribution\n",
    "plt.rcParams['figure.figsize'] = [12, 6]\n",
    "plt.rcParams['figure.dpi'] = 100\n",
    "plt.hist(test_strs, bins=range(0,6))\n",
    "plt.ylabel('Number of images')\n",
    "plt.title('Images per category')\n",
    "plt.grid(b=None)\n",
    "plt.tight_layout()\n",
    "#plt.tick_params(axis='x', which='both', bottom=True, top=False)\n",
    "#plt.tick_params(axis='y', which='both', right=False, left=True)\n",
    "plt.show()"
   ]
  },
  {
   "cell_type": "code",
   "execution_count": 159,
   "metadata": {},
   "outputs": [
    {
     "name": "stderr",
     "output_type": "stream",
     "text": [
      "/var/folders/jt/lslf8gvn015gpvtk775yzz7h0000gn/T/ipykernel_4310/1517324351.py:7: MatplotlibDeprecationWarning: The 'b' parameter of grid() has been renamed 'visible' since Matplotlib 3.5; support for the old name will be dropped two minor releases later.\n",
      "  plt.grid(b=None)\n"
     ]
    },
    {
     "data": {
      "image/png": "[encoded data removed]",
      "text/plain": [
       "<Figure size 1200x600 with 1 Axes>"
      ]
     },
     "metadata": {
      "needs_background": "light"
     },
     "output_type": "display_data"
    }
   ],
   "source": [
    "# look at test set distribution\n",
    "plt.rcParams['figure.figsize'] = [12, 6]\n",
    "plt.rcParams['figure.dpi'] = 100\n",
    "plt.hist(train_strs, bins=range(0,6))\n",
    "plt.ylabel('Number of images')\n",
    "plt.title('Images per category')\n",
    "plt.grid(b=None)\n",
    "plt.tight_layout()\n",
    "#plt.tick_params(axis='x', which='both', bottom=True, top=False)\n",
    "#plt.tick_params(axis='y', which='both', right=False, left=True)\n",
    "plt.show()"
   ]
  },
  {
   "cell_type": "code",
   "execution_count": 210,
   "metadata": {},
   "outputs": [
    {
     "name": "stdout",
     "output_type": "stream",
     "text": [
      "5094\n"
     ]
    }
   ],
   "source": [
    "test_folder = '/Users/nsi/Documents/ant-size/data/test'\n",
    "train_folder = '/Users/nsi/Documents/ant-size/data/train'\n",
    "num_files = 0\n",
    "for root, dirs, files in os.walk('/Users/nsi/Documents/ant-size/single_animal'):   \n",
    "    for file in files:\n",
    "        if file.endswith('.JPG'):\n",
    "            num_files += 1\n",
    "            if (test['filename'].eq(file)).any():\n",
    "                shutil.copy(os.path.join(root, file), test_folder)\n",
    "            else:\n",
    "                shutil.copy(os.path.join(root, file), train_folder)\n",
    "\n",
    "print(num_files)"
   ]
  },
  {
   "cell_type": "code",
   "execution_count": 198,
   "metadata": {},
   "outputs": [],
   "source": [
    "# 5092 files moved but 5094 in dataframe...\n",
    "file_list = []\n",
    "for root, dirs, files in os.walk('/Users/nsi/Documents/ant-size/single_animal'):   \n",
    "    for file in files:\n",
    "        if file.endswith('.JPG'):\n",
    "            file_list.append(file)"
   ]
  },
  {
   "cell_type": "code",
   "execution_count": 209,
   "metadata": {},
   "outputs": [
    {
     "name": "stdout",
     "output_type": "stream",
     "text": [
      "2365    2019-06-28-18_3A54_3A29_ant_C920_CROPPED_0.005...\n",
      "2367    2019-06-28-18_3A54_3A37_ant_C920_CROPPED_0.005...\n",
      "Name: filename, dtype: object\n"
     ]
    }
   ],
   "source": [
    "print(df[~df['filename'].isin(file_list)].filename)"
   ]
  },
  {
   "cell_type": "code",
   "execution_count": 202,
   "metadata": {},
   "outputs": [
    {
     "ename": "TypeError",
     "evalue": "only list-like objects are allowed to be passed to isin(), you passed a [str]",
     "output_type": "error",
     "traceback": [
      "\u001b[0;31m---------------------------------------------------------------------------\u001b[0m",
      "\u001b[0;31mTypeError\u001b[0m                                 Traceback (most recent call last)",
      "\u001b[1;32m/Users/nsi/Documents/ant-size/code/sort_data.ipynb Cell 19\u001b[0m in \u001b[0;36m<cell line: 1>\u001b[0;34m()\u001b[0m\n\u001b[1;32m      <a href='vscode-notebook-cell:/Users/nsi/Documents/ant-size/code/sort_data.ipynb#ch0000029?line=0'>1</a>\u001b[0m \u001b[39mfor\u001b[39;00m f \u001b[39min\u001b[39;00m file_list:\n\u001b[0;32m----> <a href='vscode-notebook-cell:/Users/nsi/Documents/ant-size/code/sort_data.ipynb#ch0000029?line=1'>2</a>\u001b[0m     \u001b[39mif\u001b[39;00m \u001b[39mnot\u001b[39;00m df[\u001b[39m'\u001b[39;49m\u001b[39mfilename\u001b[39;49m\u001b[39m'\u001b[39;49m]\u001b[39m.\u001b[39;49misin(file):\n\u001b[1;32m      <a href='vscode-notebook-cell:/Users/nsi/Documents/ant-size/code/sort_data.ipynb#ch0000029?line=2'>3</a>\u001b[0m         \u001b[39mprint\u001b[39m(file)\n",
      "File \u001b[0;32m~/miniconda3/envs/size-train/lib/python3.9/site-packages/pandas/core/series.py:5141\u001b[0m, in \u001b[0;36mSeries.isin\u001b[0;34m(self, values)\u001b[0m\n\u001b[1;32m   5068\u001b[0m \u001b[39mdef\u001b[39;00m \u001b[39misin\u001b[39m(\u001b[39mself\u001b[39m, values) \u001b[39m-\u001b[39m\u001b[39m>\u001b[39m Series:\n\u001b[1;32m   5069\u001b[0m     \u001b[39m\"\"\"\u001b[39;00m\n\u001b[1;32m   5070\u001b[0m \u001b[39m    Whether elements in Series are contained in `values`.\u001b[39;00m\n\u001b[1;32m   5071\u001b[0m \n\u001b[0;32m   (...)\u001b[0m\n\u001b[1;32m   5139\u001b[0m \u001b[39m    dtype: bool\u001b[39;00m\n\u001b[1;32m   5140\u001b[0m \u001b[39m    \"\"\"\u001b[39;00m\n\u001b[0;32m-> 5141\u001b[0m     result \u001b[39m=\u001b[39m algorithms\u001b[39m.\u001b[39;49misin(\u001b[39mself\u001b[39;49m\u001b[39m.\u001b[39;49m_values, values)\n\u001b[1;32m   5142\u001b[0m     \u001b[39mreturn\u001b[39;00m \u001b[39mself\u001b[39m\u001b[39m.\u001b[39m_constructor(result, index\u001b[39m=\u001b[39m\u001b[39mself\u001b[39m\u001b[39m.\u001b[39mindex)\u001b[39m.\u001b[39m__finalize__(\n\u001b[1;32m   5143\u001b[0m         \u001b[39mself\u001b[39m, method\u001b[39m=\u001b[39m\u001b[39m\"\u001b[39m\u001b[39misin\u001b[39m\u001b[39m\"\u001b[39m\n\u001b[1;32m   5144\u001b[0m     )\n",
      "File \u001b[0;32m~/miniconda3/envs/size-train/lib/python3.9/site-packages/pandas/core/algorithms.py:468\u001b[0m, in \u001b[0;36misin\u001b[0;34m(comps, values)\u001b[0m\n\u001b[1;32m    463\u001b[0m     \u001b[39mraise\u001b[39;00m \u001b[39mTypeError\u001b[39;00m(\n\u001b[1;32m    464\u001b[0m         \u001b[39m\"\u001b[39m\u001b[39monly list-like objects are allowed to be passed \u001b[39m\u001b[39m\"\u001b[39m\n\u001b[1;32m    465\u001b[0m         \u001b[39mf\u001b[39m\u001b[39m\"\u001b[39m\u001b[39mto isin(), you passed a [\u001b[39m\u001b[39m{\u001b[39;00m\u001b[39mtype\u001b[39m(comps)\u001b[39m.\u001b[39m\u001b[39m__name__\u001b[39m\u001b[39m}\u001b[39;00m\u001b[39m]\u001b[39m\u001b[39m\"\u001b[39m\n\u001b[1;32m    466\u001b[0m     )\n\u001b[1;32m    467\u001b[0m \u001b[39mif\u001b[39;00m \u001b[39mnot\u001b[39;00m is_list_like(values):\n\u001b[0;32m--> 468\u001b[0m     \u001b[39mraise\u001b[39;00m \u001b[39mTypeError\u001b[39;00m(\n\u001b[1;32m    469\u001b[0m         \u001b[39m\"\u001b[39m\u001b[39monly list-like objects are allowed to be passed \u001b[39m\u001b[39m\"\u001b[39m\n\u001b[1;32m    470\u001b[0m         \u001b[39mf\u001b[39m\u001b[39m\"\u001b[39m\u001b[39mto isin(), you passed a [\u001b[39m\u001b[39m{\u001b[39;00m\u001b[39mtype\u001b[39m(values)\u001b[39m.\u001b[39m\u001b[39m__name__\u001b[39m\u001b[39m}\u001b[39;00m\u001b[39m]\u001b[39m\u001b[39m\"\u001b[39m\n\u001b[1;32m    471\u001b[0m     )\n\u001b[1;32m    473\u001b[0m \u001b[39mif\u001b[39;00m \u001b[39mnot\u001b[39;00m \u001b[39misinstance\u001b[39m(values, (ABCIndex, ABCSeries, ABCExtensionArray, np\u001b[39m.\u001b[39mndarray)):\n\u001b[1;32m    474\u001b[0m     values \u001b[39m=\u001b[39m _ensure_arraylike(\u001b[39mlist\u001b[39m(values))\n",
      "\u001b[0;31mTypeError\u001b[0m: only list-like objects are allowed to be passed to isin(), you passed a [str]"
     ]
    }
   ],
   "source": [
    "for f in file_list:\n",
    "    if not df['filename'].isin(file):\n",
    "        print(file)"
   ]
  },
  {
   "cell_type": "code",
   "execution_count": 178,
   "metadata": {},
   "outputs": [],
   "source": [
    "train.to_csv('../data/train_ant_size.csv', index_label = False)\n",
    "test.to_csv('../data/test_ant_size.csv', index_label = False)"
   ]
  }
 ],
 "metadata": {
  "kernelspec": {
   "display_name": "Python 3.9.12",
   "language": "python",
   "name": "python3"
  },
  "language_info": {
   "codemirror_mode": {
    "name": "ipython",
    "version": 3
   },
   "file_extension": ".py",
   "mimetype": "text/x-python",
   "name": "python",
   "nbconvert_exporter": "python",
   "pygments_lexer": "ipython3",
   "version": "3.9.12"
  },
  "orig_nbformat": 4,
  "vscode": {
   "interpreter": {
    "hash": "4befb57ef0277b5fc824b0f8901a6b4e41f1fec0de5c3e8905a0b119296f8abb"
   }
  }
 },
 "nbformat": 4,
 "nbformat_minor": 2
}
