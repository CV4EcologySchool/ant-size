{
 "cells": [
  {
   "cell_type": "markdown",
   "metadata": {},
   "source": []
  },
  {
   "cell_type": "code",
   "execution_count": 1,
   "metadata": {},
   "outputs": [],
   "source": [
    "import numpy as np\n",
    "import cv2\n",
    "import os\n",
    "import csv\n",
    "import random\n",
    "\n",
    "# now for the file management fucntions\n",
    "from Antrax_base import save_frame, save_patches, import_tracks, display_video, get_exact_frame, extractPatches, display_patches, sortByDistance"
   ]
  },
  {
   "cell_type": "code",
   "execution_count": 16,
   "metadata": {},
   "outputs": [
    {
     "name": "stdout",
     "output_type": "stream",
     "text": [
      "importing tracks...\n",
      "imported rec_climate_chamber_sub_colony_BRIGHT_10000_Track.094.csv  with 84 points.\n",
      "imported rec_climate_chamber_sub_colony_BRIGHT_10000_Track.080.csv  with 1000 points.\n",
      "imported rec_climate_chamber_sub_colony_BRIGHT_10000_Track.057.csv  with 1000 points.\n",
      "imported rec_climate_chamber_sub_colony_BRIGHT_10000_Track.043.csv  with 1000 points.\n",
      "imported rec_climate_chamber_sub_colony_BRIGHT_10000_Track.042.csv  with 988 points.\n",
      "imported rec_climate_chamber_sub_colony_BRIGHT_10000_Track.056.csv  with 1000 points.\n",
      "imported rec_climate_chamber_sub_colony_BRIGHT_10000_Track.081.csv  with 834 points.\n",
      "imported rec_climate_chamber_sub_colony_BRIGHT_10000_Track.095.csv  with 53 points.\n",
      "imported rec_climate_chamber_sub_colony_BRIGHT_10000_Track.083.csv  with 770 points.\n",
      "imported rec_climate_chamber_sub_colony_BRIGHT_10000_Track.097.csv  with 5 points.\n",
      "imported rec_climate_chamber_sub_colony_BRIGHT_10000_Track.040.csv  with 1000 points.\n",
      "imported rec_climate_chamber_sub_colony_BRIGHT_10000_Track.054.csv  with 1000 points.\n",
      "imported rec_climate_chamber_sub_colony_BRIGHT_10000_Track.068.csv  with 1000 points.\n",
      "imported rec_climate_chamber_sub_colony_BRIGHT_10000_Track.069.csv  with 1000 points.\n",
      "imported rec_climate_chamber_sub_colony_BRIGHT_10000_Track.055.csv  with 1000 points.\n",
      "imported rec_climate_chamber_sub_colony_BRIGHT_10000_Track.041.csv  with 1000 points.\n",
      "imported rec_climate_chamber_sub_colony_BRIGHT_10000_Track.096.csv  with 54 points.\n",
      "imported rec_climate_chamber_sub_colony_BRIGHT_10000_Track.082.csv  with 796 points.\n",
      "imported rec_climate_chamber_sub_colony_BRIGHT_10000_Track.086.csv  with 555 points.\n",
      "imported rec_climate_chamber_sub_colony_BRIGHT_10000_Track.092.csv  with 101 points.\n",
      "imported rec_climate_chamber_sub_colony_BRIGHT_10000_Track.079.csv  with 49 points.\n",
      "imported rec_climate_chamber_sub_colony_BRIGHT_10000_Track.045.csv  with 924 points.\n",
      "imported rec_climate_chamber_sub_colony_BRIGHT_10000_Track.051.csv  with 1000 points.\n",
      "imported rec_climate_chamber_sub_colony_BRIGHT_10000_Track.050.csv  with 716 points.\n",
      "imported rec_climate_chamber_sub_colony_BRIGHT_10000_Track.044.csv  with 1000 points.\n",
      "imported rec_climate_chamber_sub_colony_BRIGHT_10000_Track.078.csv  with 1000 points.\n",
      "imported rec_climate_chamber_sub_colony_BRIGHT_10000_Track.093.csv  with 83 points.\n",
      "imported rec_climate_chamber_sub_colony_BRIGHT_10000_Track.087.csv  with 113 points.\n",
      "imported rec_climate_chamber_sub_colony_BRIGHT_10000_Track.091.csv  with 146 points.\n",
      "imported rec_climate_chamber_sub_colony_BRIGHT_10000_Track.085.csv  with 654 points.\n",
      "imported rec_climate_chamber_sub_colony_BRIGHT_10000_Track.052.csv  with 420 points.\n",
      "imported rec_climate_chamber_sub_colony_BRIGHT_10000_Track.046.csv  with 1000 points.\n",
      "imported rec_climate_chamber_sub_colony_BRIGHT_10000_Track.047.csv  with 1000 points.\n",
      "imported rec_climate_chamber_sub_colony_BRIGHT_10000_Track.053.csv  with 1000 points.\n",
      "imported rec_climate_chamber_sub_colony_BRIGHT_10000_Track.084.csv  with 185 points.\n",
      "imported rec_climate_chamber_sub_colony_BRIGHT_10000_Track.090.csv  with 281 points.\n",
      "imported rec_climate_chamber_sub_colony_BRIGHT_10000_Track.034.csv  with 536 points.\n",
      "imported rec_climate_chamber_sub_colony_BRIGHT_10000_Track.020.csv  with 1000 points.\n",
      "imported rec_climate_chamber_sub_colony_BRIGHT_10000_Track.008.csv  with 1000 points.\n",
      "imported rec_climate_chamber_sub_colony_BRIGHT_10000_Track.009.csv  with 1000 points.\n",
      "imported rec_climate_chamber_sub_colony_BRIGHT_10000_Track.021.csv  with 1000 points.\n",
      "imported rec_climate_chamber_sub_colony_BRIGHT_10000_Track.035.csv  with 1000 points.\n",
      "imported rec_climate_chamber_sub_colony_BRIGHT_10000_Track.023.csv  with 1000 points.\n",
      "imported rec_climate_chamber_sub_colony_BRIGHT_10000_Track.037.csv  with 1000 points.\n",
      "imported rec_climate_chamber_sub_colony_BRIGHT_10000_Track.036.csv  with 381 points.\n",
      "imported rec_climate_chamber_sub_colony_BRIGHT_10000_Track.022.csv  with 1000 points.\n",
      "imported rec_climate_chamber_sub_colony_BRIGHT_10000_Track.026.csv  with 1000 points.\n",
      "imported rec_climate_chamber_sub_colony_BRIGHT_10000_Track.032.csv  with 1000 points.\n",
      "imported rec_climate_chamber_sub_colony_BRIGHT_10000_Track.033.csv  with 1000 points.\n",
      "imported rec_climate_chamber_sub_colony_BRIGHT_10000_Track.027.csv  with 1000 points.\n",
      "imported rec_climate_chamber_sub_colony_BRIGHT_10000_Track.019.csv  with 1000 points.\n",
      "imported rec_climate_chamber_sub_colony_BRIGHT_10000_Track.031.csv  with 624 points.\n",
      "imported rec_climate_chamber_sub_colony_BRIGHT_10000_Track.025.csv  with 1000 points.\n",
      "imported rec_climate_chamber_sub_colony_BRIGHT_10000_Track.024.csv  with 1000 points.\n",
      "imported rec_climate_chamber_sub_colony_BRIGHT_10000_Track.030.csv  with 1000 points.\n",
      "imported rec_climate_chamber_sub_colony_BRIGHT_10000_Track.018.csv  with 1000 points.\n",
      "imported rec_climate_chamber_sub_colony_BRIGHT_10000_Track.015.csv  with 1000 points.\n",
      "imported rec_climate_chamber_sub_colony_BRIGHT_10000_Track.001.csv  with 1000 points.\n",
      "imported rec_climate_chamber_sub_colony_BRIGHT_10000_Track.029.csv  with 1000 points.\n",
      "imported rec_climate_chamber_sub_colony_BRIGHT_10000_Track.028.csv  with 1000 points.\n",
      "imported rec_climate_chamber_sub_colony_BRIGHT_10000_Track.014.csv  with 1000 points.\n",
      "imported rec_climate_chamber_sub_colony_BRIGHT_10000_Track.002.csv  with 1000 points.\n",
      "imported rec_climate_chamber_sub_colony_BRIGHT_10000_Track.016.csv  with 1000 points.\n",
      "imported rec_climate_chamber_sub_colony_BRIGHT_10000_Track.017.csv  with 1000 points.\n",
      "imported rec_climate_chamber_sub_colony_BRIGHT_10000_Track.003.csv  with 1000 points.\n",
      "imported rec_climate_chamber_sub_colony_BRIGHT_10000_Track.007.csv  with 1000 points.\n",
      "imported rec_climate_chamber_sub_colony_BRIGHT_10000_Track.013.csv  with 1000 points.\n",
      "imported rec_climate_chamber_sub_colony_BRIGHT_10000_Track.012.csv  with 155 points.\n",
      "imported rec_climate_chamber_sub_colony_BRIGHT_10000_Track.006.csv  with 1000 points.\n",
      "imported rec_climate_chamber_sub_colony_BRIGHT_10000_Track.038.csv  with 1000 points.\n",
      "imported rec_climate_chamber_sub_colony_BRIGHT_10000_Track.010.csv  with 1000 points.\n",
      "imported rec_climate_chamber_sub_colony_BRIGHT_10000_Track.004.csv  with 1000 points.\n",
      "imported rec_climate_chamber_sub_colony_BRIGHT_10000_Track.005.csv  with 231 points.\n",
      "imported rec_climate_chamber_sub_colony_BRIGHT_10000_Track.011.csv  with 325 points.\n",
      "imported rec_climate_chamber_sub_colony_BRIGHT_10000_Track.039.csv  with 1000 points.\n",
      "imported rec_climate_chamber_sub_colony_BRIGHT_10000_Track.102.csv  with 122 points.\n",
      "imported rec_climate_chamber_sub_colony_BRIGHT_10000_Track.089.csv  with 352 points.\n",
      "imported rec_climate_chamber_sub_colony_BRIGHT_10000_Track.076.csv  with 964 points.\n",
      "imported rec_climate_chamber_sub_colony_BRIGHT_10000_Track.062.csv  with 1000 points.\n",
      "imported rec_climate_chamber_sub_colony_BRIGHT_10000_Track.063.csv  with 112 points.\n",
      "imported rec_climate_chamber_sub_colony_BRIGHT_10000_Track.077.csv  with 1000 points.\n",
      "imported rec_climate_chamber_sub_colony_BRIGHT_10000_Track.088.csv  with 431 points.\n",
      "imported rec_climate_chamber_sub_colony_BRIGHT_10000_Track.103.csv  with 1000 points.\n",
      "imported rec_climate_chamber_sub_colony_BRIGHT_10000_Track.101.csv  with 254 points.\n",
      "imported rec_climate_chamber_sub_colony_BRIGHT_10000_Track.061.csv  with 1000 points.\n",
      "imported rec_climate_chamber_sub_colony_BRIGHT_10000_Track.075.csv  with 137 points.\n",
      "imported rec_climate_chamber_sub_colony_BRIGHT_10000_Track.049.csv  with 671 points.\n",
      "imported rec_climate_chamber_sub_colony_BRIGHT_10000_Track.048.csv  with 1000 points.\n",
      "imported rec_climate_chamber_sub_colony_BRIGHT_10000_Track.074.csv  with 1000 points.\n",
      "imported rec_climate_chamber_sub_colony_BRIGHT_10000_Track.060.csv  with 1000 points.\n",
      "imported rec_climate_chamber_sub_colony_BRIGHT_10000_Track.100.csv  with 304 points.\n",
      "imported rec_climate_chamber_sub_colony_BRIGHT_10000_Track.058.csv  with 1000 points.\n",
      "imported rec_climate_chamber_sub_colony_BRIGHT_10000_Track.064.csv  with 847 points.\n",
      "imported rec_climate_chamber_sub_colony_BRIGHT_10000_Track.070.csv  with 1000 points.\n",
      "imported rec_climate_chamber_sub_colony_BRIGHT_10000_Track.071.csv  with 1000 points.\n",
      "imported rec_climate_chamber_sub_colony_BRIGHT_10000_Track.065.csv  with 1000 points.\n",
      "imported rec_climate_chamber_sub_colony_BRIGHT_10000_Track.059.csv  with 1000 points.\n",
      "imported rec_climate_chamber_sub_colony_BRIGHT_10000_Track.098.csv  with 185 points.\n",
      "imported rec_climate_chamber_sub_colony_BRIGHT_10000_Track.073.csv  with 36 points.\n",
      "imported rec_climate_chamber_sub_colony_BRIGHT_10000_Track.067.csv  with 1000 points.\n",
      "imported rec_climate_chamber_sub_colony_BRIGHT_10000_Track.066.csv  with 83 points.\n",
      "imported rec_climate_chamber_sub_colony_BRIGHT_10000_Track.072.csv  with 138 points.\n",
      "imported rec_climate_chamber_sub_colony_BRIGHT_10000_Track.099.csv  with 649 points.\n",
      "\n",
      "Successfully combined the tracks of 103 individuals for training and display!\n"
     ]
    }
   ],
   "source": [
    "tracks = import_tracks('../multi_animal/export_bright_FABI', 100000, export=False)"
   ]
  },
  {
   "cell_type": "code",
   "execution_count": 19,
   "metadata": {},
   "outputs": [],
   "source": [
    "cap = cv2.VideoCapture(\"../videos/rec_climate_chamber_sub_colony_BRIGHT_10000_frames.mp4\")\n",
    "#display_video(cap, tracks, show=(1, 1000))"
   ]
  },
  {
   "cell_type": "code",
   "execution_count": 28,
   "metadata": {},
   "outputs": [
    {
     "name": "stdout",
     "output_type": "stream",
     "text": [
      "310\n"
     ]
    }
   ],
   "source": [
    "start_frame = random.randint(1, 1000) # get random frame number\n",
    "print(start_frame)\n",
    "stack_size = 1\n",
    "\n",
    "frame_list = get_exact_frame(frame_no=start_frame, \n",
    "                            num_frames_max=100000, \n",
    "                            file=cap, \n",
    "                            display=False, \n",
    "                            num_frames=stack_size + 1) \n",
    "\n",
    "stacks, labels, a, b, c, d = extractPatches(frame_no=start_frame, frames=frame_list, tracks=tracks)\n",
    "\n",
    "for i in range(len(stacks)):\n",
    "  for j in range(stack_size):\n",
    "    cv2.imwrite('../data/anthead/bright/bright_frame_{}_ant_{}.jpg'.format(start_frame+j, labels[i]), stacks[i][j])"
   ]
  },
  {
   "cell_type": "code",
   "execution_count": 6,
   "metadata": {},
   "outputs": [
    {
     "ename": "KeyboardInterrupt",
     "evalue": "",
     "output_type": "error",
     "traceback": [
      "\u001b[0;31m---------------------------------------------------------------------------\u001b[0m",
      "\u001b[0;31mKeyboardInterrupt\u001b[0m                         Traceback (most recent call last)",
      "\u001b[1;32m/Users/nsi/Documents/ant-size/code/process_video.ipynb Cell 6\u001b[0m in \u001b[0;36m<cell line: 2>\u001b[0;34m()\u001b[0m\n\u001b[1;32m      <a href='vscode-notebook-cell:/Users/nsi/Documents/ant-size/code/process_video.ipynb#ch0000005?line=0'>1</a>\u001b[0m \u001b[39m# get still frame with numbers\u001b[39;00m\n\u001b[1;32m      <a href='vscode-notebook-cell:/Users/nsi/Documents/ant-size/code/process_video.ipynb#ch0000005?line=1'>2</a>\u001b[0m \u001b[39mfor\u001b[39;00m frame \u001b[39min\u001b[39;00m \u001b[39mrange\u001b[39m(\u001b[39m1\u001b[39m, \u001b[39m1000\u001b[39m):\n\u001b[0;32m----> <a href='vscode-notebook-cell:/Users/nsi/Documents/ant-size/code/process_video.ipynb#ch0000005?line=2'>3</a>\u001b[0m     save_frame(frame, tracks, cap, \u001b[39m'\u001b[39;49m\u001b[39mframe_stills/base_frame/base_frame_\u001b[39;49m\u001b[39m{}\u001b[39;49;00m\u001b[39m.jpg\u001b[39;49m\u001b[39m'\u001b[39;49m\u001b[39m.\u001b[39;49mformat(frame))\n",
      "File \u001b[0;32m~/Documents/ant-size/code/Antrax_base.py:235\u001b[0m, in \u001b[0;36msave_frame\u001b[0;34m(frame_num, tracks, cap, export, scale)\u001b[0m\n\u001b[1;32m    233\u001b[0m \u001b[39m# define the size of each tracking rectangle\u001b[39;00m\n\u001b[1;32m    234\u001b[0m target_size \u001b[39m=\u001b[39m \u001b[39m100\u001b[39m \u001b[39m*\u001b[39m scale\n\u001b[0;32m--> 235\u001b[0m cap\u001b[39m.\u001b[39;49mset(\u001b[39m1\u001b[39;49m, frame_num)\n\u001b[1;32m    237\u001b[0m \u001b[39m# fix the seed for the same set of randomly assigned colours for each track\u001b[39;00m\n\u001b[1;32m    238\u001b[0m np\u001b[39m.\u001b[39mrandom\u001b[39m.\u001b[39mseed(seed\u001b[39m=\u001b[39m\u001b[39m0\u001b[39m)\n",
      "\u001b[0;31mKeyboardInterrupt\u001b[0m: "
     ]
    }
   ],
   "source": [
    "# list of files with head width\n",
    "\n",
    "# put files in list then split to get ant number\n",
    "# match ant number to headwidth dataset"
   ]
  },
  {
   "cell_type": "code",
   "execution_count": null,
   "metadata": {},
   "outputs": [],
   "source": [
    "# get still frame with numbers\n",
    "for frame in range(1, 1000):\n",
    "    save_frame(frame, tracks, cap, 'frame_stills/base_frame/base_frame_{}.jpg'.format(frame))"
   ]
  }
 ],
 "metadata": {
  "kernelspec": {
   "display_name": "Python 3.9.12",
   "language": "python",
   "name": "python3"
  },
  "language_info": {
   "codemirror_mode": {
    "name": "ipython",
    "version": 3
   },
   "file_extension": ".py",
   "mimetype": "text/x-python",
   "name": "python",
   "nbconvert_exporter": "python",
   "pygments_lexer": "ipython3",
   "version": "3.9.12"
  },
  "orig_nbformat": 4,
  "vscode": {
   "interpreter": {
    "hash": "4befb57ef0277b5fc824b0f8901a6b4e41f1fec0de5c3e8905a0b119296f8abb"
   }
  }
 },
 "nbformat": 4,
 "nbformat_minor": 2
}
